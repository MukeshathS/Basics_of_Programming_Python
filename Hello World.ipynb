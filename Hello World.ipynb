{
 "cells": [
  {
   "cell_type": "markdown",
   "metadata": {},
   "source": [
    "## Python Programming Language\n",
    "\n",
    "- Python is a High Level Language. Few other examples of High level language are - C, C++, Java, etc.\n",
    "- Computers only understand and run programs written in Low Level Language.\n",
    "- Low level language is sometimes referred to as \"Assembly Language\" or \"Machine Language\"."
   ]
  },
  {
   "cell_type": "markdown",
   "metadata": {},
   "source": [
    "### Compiler and Interpreter\n",
    "\n",
    "- Programs such as the Compiler and the Interpreter, process the High level language and convert it into Low level language.\n",
    "- Python uses the Interpreter, for the conversion process.\n",
    "- The Compiler is used by languages such as C++ and Java."
   ]
  },
  {
   "cell_type": "markdown",
   "metadata": {},
   "source": [
    "## What is a Program?\n",
    "\n",
    "- Sequence of instructions, instructing the computer to perform a computation\n",
    "- Few basic set of instructions that exist in about every other programming language are as follows - \n",
    "\n",
    "    ### Input:       Receive data from user through keyboard or read from a file or from another device.\n",
    "    \n",
    "    ### Output:    Send data to another device or write to a file or simply display on the screen.\n",
    "    \n",
    "    ### Math:       Perform mathematical operations such as addition, multiplication, division, etc.\n",
    "    \n",
    "    ### Conditional Execution:           Check for a certain condition and then execute the appropriate code.\n",
    "    \n",
    "    ### Iteration:  Perform some action repeatedly usually with some variation.\n",
    "    "
   ]
  },
  {
   "cell_type": "markdown",
   "metadata": {},
   "source": [
    "So, programming is the process of breaking down a large complex task into smaller sub-tasks, untill the sub-tasks are simple enough to be performed with one of the above mentioned basic instructions."
   ]
  },
  {
   "cell_type": "markdown",
   "metadata": {},
   "source": [
    "## Your First Program"
   ]
  },
  {
   "cell_type": "code",
   "execution_count": 3,
   "metadata": {},
   "outputs": [
    {
     "name": "stdout",
     "output_type": "stream",
     "text": [
      "Hello World!\n"
     ]
    }
   ],
   "source": [
    "print(\"Hello World!\")"
   ]
  },
  {
   "cell_type": "code",
   "execution_count": null,
   "metadata": {},
   "outputs": [],
   "source": []
  }
 ],
 "metadata": {
  "kernelspec": {
   "display_name": "Python 3",
   "language": "python",
   "name": "python3"
  },
  "language_info": {
   "codemirror_mode": {
    "name": "ipython",
    "version": 3
   },
   "file_extension": ".py",
   "mimetype": "text/x-python",
   "name": "python",
   "nbconvert_exporter": "python",
   "pygments_lexer": "ipython3",
   "version": "3.7.6"
  }
 },
 "nbformat": 4,
 "nbformat_minor": 4
}
