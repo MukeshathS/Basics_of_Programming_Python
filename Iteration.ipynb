{
 "cells": [
  {
   "cell_type": "markdown",
   "metadata": {},
   "source": [
    "# Iteration\n",
    "### Repeating the execution of a block of code for a specified number of times, is called as iteration."
   ]
  },
  {
   "cell_type": "markdown",
   "metadata": {},
   "source": [
    "## We can perform iterations in Python by using the - \"while\" statement and \"for\" statement"
   ]
  },
  {
   "cell_type": "markdown",
   "metadata": {},
   "source": [
    "## While statement - "
   ]
  },
  {
   "cell_type": "markdown",
   "metadata": {},
   "source": [
    "### The flow of execution for a while statement is - \n",
    "1. Evaluate the condition, whether it is *True* or *False*.\n",
    "2. If the condition is *False*, exit the while loop and continue execution with the next statement after while loop.\n",
    "3. If the condition is *True*, execute the block of statements in the while loop and go back to step 1 to evaluate the condition again."
   ]
  },
  {
   "cell_type": "code",
   "execution_count": 1,
   "metadata": {},
   "outputs": [
    {
     "name": "stdout",
     "output_type": "stream",
     "text": [
      "Loop -  5\n",
      "Loop -  4\n",
      "Loop -  3\n",
      "Loop -  2\n",
      "Loop -  1\n",
      "Outside the while loop\n"
     ]
    }
   ],
   "source": [
    "num = 5\n",
    "while (num > 0):\n",
    "    print(\"Loop - \", num)\n",
    "    num -= 1"
   ]
  },
  {
   "cell_type": "markdown",
   "metadata": {},
   "source": [
    "Once the iteration gets completed, if you want to run a block of code once, you can use the *else* statement."
   ]
  },
  {
   "cell_type": "code",
   "execution_count": 2,
   "metadata": {},
   "outputs": [
    {
     "name": "stdout",
     "output_type": "stream",
     "text": [
      "Loop -  5\n",
      "Loop -  4\n",
      "Loop -  3\n",
      "Loop -  2\n",
      "Loop -  1\n",
      "Outside the while loop\n"
     ]
    }
   ],
   "source": [
    "num = 5\n",
    "while (num > 0):\n",
    "    print(\"Loop - \", num)\n",
    "    num -= 1\n",
    "else:\n",
    "    print(\"Outside the while loop\")"
   ]
  },
  {
   "cell_type": "markdown",
   "metadata": {},
   "source": [
    "If you want to use the **in** statement, you can do so as follows"
   ]
  },
  {
   "cell_type": "code",
   "execution_count": 6,
   "metadata": {},
   "outputs": [
    {
     "name": "stdout",
     "output_type": "stream",
     "text": [
      "100  not in lis.\n",
      "99  not in lis.\n",
      "98  not in lis.\n",
      "97  not in lis.\n",
      "96  not in lis.\n",
      "95  not in lis.\n",
      "94  not in lis.\n",
      "93  is in lis.\n"
     ]
    }
   ],
   "source": [
    "lis = [4,5,67,3,93,2,4,6,7,85,4,9]\n",
    "s = 100\n",
    "while s not in lis:\n",
    "    print(s, \" not in lis.\")\n",
    "    s -= 1\n",
    "else:\n",
    "    print(s, \" is in lis.\")"
   ]
  },
  {
   "cell_type": "markdown",
   "metadata": {},
   "source": [
    "## For Statement"
   ]
  },
  {
   "cell_type": "markdown",
   "metadata": {},
   "source": [
    "### A \"for\" loop is mostly used for iterating over a sequence of values or items in a list, or tuple, or a dictionary..."
   ]
  },
  {
   "cell_type": "markdown",
   "metadata": {},
   "source": [
    "### To define a \"for\" loop - "
   ]
  },
  {
   "cell_type": "code",
   "execution_count": 7,
   "metadata": {},
   "outputs": [
    {
     "name": "stdout",
     "output_type": "stream",
     "text": [
      "0\n",
      "1\n",
      "2\n",
      "3\n",
      "4\n",
      "5\n",
      "6\n",
      "7\n",
      "8\n",
      "9\n"
     ]
    }
   ],
   "source": [
    "for i in range(0,10):\n",
    "    print(i)"
   ]
  },
  {
   "cell_type": "markdown",
   "metadata": {},
   "source": [
    "### The range function will create a sequence of values starting from the defined (lower limit value), and by default will increment the value by 1, uptill the defined (upper limit value - 1).\n",
    "### If you do not specify the lower limit value, then the range function will consider it by default as 0.\n",
    "### You can see in the output, the list of values that the range function creates and assigns them to i in the for loop executed above."
   ]
  },
  {
   "cell_type": "markdown",
   "metadata": {},
   "source": [
    "### You can also mention the increment value as a third argument in the range function.\n",
    "### Suppose you want to print even numbers from 1 to 50 - "
   ]
  },
  {
   "cell_type": "code",
   "execution_count": 12,
   "metadata": {},
   "outputs": [
    {
     "name": "stdout",
     "output_type": "stream",
     "text": [
      "[2, 4, 6, 8, 10, 12, 14, 16, 18, 20, 22, 24, 26, 28, 30, 32, 34, 36, 38, 40, 42, 44, 46, 48, 50]\n"
     ]
    }
   ],
   "source": [
    "even = []\n",
    "for i in range(2,51,2):\n",
    "    even.append(i)\n",
    "else:\n",
    "    print(even)"
   ]
  },
  {
   "cell_type": "markdown",
   "metadata": {},
   "source": [
    "#### You can see that the \"else\" statement can also be used with \"for\" loops."
   ]
  },
  {
   "cell_type": "markdown",
   "metadata": {},
   "source": [
    "## Advanced for loop - "
   ]
  },
  {
   "cell_type": "markdown",
   "metadata": {},
   "source": [
    "### Instead of initiating an empty list, and appending the even numbers to the list inside the for loop, we can simply write an advanced for loop statement. You can also call it as a generator."
   ]
  },
  {
   "cell_type": "code",
   "execution_count": 15,
   "metadata": {},
   "outputs": [
    {
     "name": "stdout",
     "output_type": "stream",
     "text": [
      "[2, 4, 6, 8, 10, 12, 14, 16, 18, 20, 22, 24, 26, 28, 30, 32, 34, 36, 38, 40, 42, 44, 46, 48, 50]\n"
     ]
    }
   ],
   "source": [
    "even = [i for i in range(2,51,2)]\n",
    "print(even)"
   ]
  },
  {
   "cell_type": "code",
   "execution_count": null,
   "metadata": {},
   "outputs": [],
   "source": []
  },
  {
   "cell_type": "code",
   "execution_count": null,
   "metadata": {},
   "outputs": [],
   "source": []
  }
 ],
 "metadata": {
  "kernelspec": {
   "display_name": "Python 3",
   "language": "python",
   "name": "python3"
  },
  "language_info": {
   "codemirror_mode": {
    "name": "ipython",
    "version": 3
   },
   "file_extension": ".py",
   "mimetype": "text/x-python",
   "name": "python",
   "nbconvert_exporter": "python",
   "pygments_lexer": "ipython3",
   "version": "3.7.6"
  }
 },
 "nbformat": 4,
 "nbformat_minor": 4
}
