{
 "cells": [
  {
   "cell_type": "markdown",
   "metadata": {},
   "source": [
    "# Boolean Expressions - "
   ]
  },
  {
   "cell_type": "markdown",
   "metadata": {},
   "source": [
    "## It is an expression that is either True or False"
   ]
  },
  {
   "cell_type": "markdown",
   "metadata": {},
   "source": [
    "## The relational operator compares the operands - \n",
    "### - The result is True, if the condition satisfies\n",
    "### - The result is False, if the condition does not satisfy"
   ]
  },
  {
   "cell_type": "markdown",
   "metadata": {},
   "source": [
    "## The relational operators in Python are - "
   ]
  },
  {
   "cell_type": "markdown",
   "metadata": {},
   "source": [
    "### x != y -------------------------------> x is not equal to y\n",
    "### x==y -------------------------------> x is equal to y\n",
    "### x < y -------------------------------> x is lesser that y\n",
    "### x > y -------------------------------> x is greater than y\n",
    "### x <= y -------------------------------> x is lesser than or equal to y\n",
    "### x >= y -------------------------------> x is greater than or equal to y"
   ]
  },
  {
   "cell_type": "markdown",
   "metadata": {},
   "source": [
    "## The logical operators in Python are - "
   ]
  },
  {
   "cell_type": "markdown",
   "metadata": {},
   "source": [
    "### and -------------------------------> True if both boolean expressions are True, otherwise False\n",
    "### or -------------------------------> True if one of the boolean expressions is True, otherwise False\n",
    "### not -------------------------------> negates the boolean expression. True if input is False, and False if input is True"
   ]
  },
  {
   "cell_type": "markdown",
   "metadata": {},
   "source": [
    "# Conditional Execution - "
   ]
  },
  {
   "cell_type": "markdown",
   "metadata": {},
   "source": [
    "## - To write useful programs, we almost always need the ability to check conditions and change the executional behaviour of the program.\n",
    "## - The conditional statements gives us this ability."
   ]
  },
  {
   "cell_type": "markdown",
   "metadata": {},
   "source": [
    "## The \"if\" statement - "
   ]
  },
  {
   "cell_type": "markdown",
   "metadata": {},
   "source": [
    "### If a condition satisfies, then the code within that if statement will execute. Otherwise, the code is skipped."
   ]
  },
  {
   "cell_type": "markdown",
   "metadata": {},
   "source": [
    "### Always remember that, the block of statements within a condition should be indented by four spaces or a tab space."
   ]
  },
  {
   "cell_type": "code",
   "execution_count": 1,
   "metadata": {},
   "outputs": [
    {
     "name": "stdout",
     "output_type": "stream",
     "text": [
      "The value of x is positive\n"
     ]
    }
   ],
   "source": [
    "x = 5\n",
    "if (x > 0):\n",
    "    print(\"The value of x is positive\")"
   ]
  },
  {
   "cell_type": "markdown",
   "metadata": {},
   "source": [
    "## The \"if - else\" statement - "
   ]
  },
  {
   "cell_type": "code",
   "execution_count": 2,
   "metadata": {},
   "outputs": [
    {
     "name": "stdout",
     "output_type": "stream",
     "text": [
      "The value of x is negative\n"
     ]
    }
   ],
   "source": [
    "x = -2\n",
    "if (x > 0):\n",
    "    print(\"The value of x is positive\")\n",
    "else:\n",
    "    print(\"The value of x is negative\")"
   ]
  },
  {
   "cell_type": "markdown",
   "metadata": {},
   "source": [
    "## The \"if - elif - else\" statement - \n",
    "#### (If there are multiple conditions to check)"
   ]
  },
  {
   "cell_type": "code",
   "execution_count": 3,
   "metadata": {},
   "outputs": [
    {
     "name": "stdout",
     "output_type": "stream",
     "text": [
      "a is the greatest number\n"
     ]
    }
   ],
   "source": [
    "# To find the greatest of 3 numbers - \n",
    "a = 9\n",
    "b = 6\n",
    "c = 7\n",
    "if (a>b) and (a>c):\n",
    "    print(\"a is the greatest number\")\n",
    "elif (b>a) and (b>c):\n",
    "    print(\"b is the greatest number\")\n",
    "else:\n",
    "    print(\"c is the greatest number\")"
   ]
  },
  {
   "cell_type": "markdown",
   "metadata": {},
   "source": [
    "## The \"in\" operator - "
   ]
  },
  {
   "cell_type": "markdown",
   "metadata": {},
   "source": [
    "### The if statement can also be used to check if a value or item is present in a list, set, tuple or dictionary, using the \"in\" operator."
   ]
  },
  {
   "cell_type": "code",
   "execution_count": 4,
   "metadata": {},
   "outputs": [
    {
     "name": "stdout",
     "output_type": "stream",
     "text": [
      "One is in the dictionary\n",
      "The key 2 is in the dictionary\n"
     ]
    }
   ],
   "source": [
    "word_nums = {0:'zero', 1:'one', 2:'two', 3:'three', 4:'four'}\n",
    "if 'one' in word_nums.values():\n",
    "    print(\"One is in the dictionary\")\n",
    "if 2 in word_nums:\n",
    "    print(\"The key 2 is in the dictionary\")"
   ]
  },
  {
   "cell_type": "code",
   "execution_count": 5,
   "metadata": {},
   "outputs": [
    {
     "name": "stdout",
     "output_type": "stream",
     "text": [
      "5 is there!\n"
     ]
    }
   ],
   "source": [
    "tup = (2,3,5,6,4,3,2,4,5,6,7,8,6,5,4,3,3,2,3,9,5)\n",
    "if 5 in tup:\n",
    "    print(\"5 is there!\")"
   ]
  },
  {
   "cell_type": "markdown",
   "metadata": {},
   "source": [
    "## The \"is\" operator - "
   ]
  },
  {
   "cell_type": "markdown",
   "metadata": {},
   "source": [
    "### The if statement can also be used to check if the operands on both sides of the relational operator point to the same object, using the \"is\" operator."
   ]
  },
  {
   "cell_type": "code",
   "execution_count": 6,
   "metadata": {},
   "outputs": [
    {
     "name": "stdout",
     "output_type": "stream",
     "text": [
      "s is 5\n"
     ]
    }
   ],
   "source": [
    "x = 5\n",
    "y = 5\n",
    "if y is x:\n",
    "    print(\"s is 5\")\n",
    "else:\n",
    "    print(\"No\")"
   ]
  },
  {
   "cell_type": "code",
   "execution_count": null,
   "metadata": {},
   "outputs": [],
   "source": []
  }
 ],
 "metadata": {
  "kernelspec": {
   "display_name": "Python 3",
   "language": "python",
   "name": "python3"
  },
  "language_info": {
   "codemirror_mode": {
    "name": "ipython",
    "version": 3
   },
   "file_extension": ".py",
   "mimetype": "text/x-python",
   "name": "python",
   "nbconvert_exporter": "python",
   "pygments_lexer": "ipython3",
   "version": "3.7.6"
  }
 },
 "nbformat": 4,
 "nbformat_minor": 4
}
